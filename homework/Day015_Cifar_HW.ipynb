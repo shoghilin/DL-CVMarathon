{
 "cells": [
  {
   "cell_type": "markdown",
   "metadata": {},
   "source": [
    "## 『本次練習內容』\n",
    "#### 運用這幾天所學觀念搭建一個CNN分類器"
   ]
  },
  {
   "cell_type": "markdown",
   "metadata": {},
   "source": [
    "## 『本次練習目的』\n",
    "  #### 熟悉CNN分類器搭建步驟與原理\n",
    "  #### 學員們可以嘗試不同搭法，如使用不同的Maxpooling層，用GlobalAveragePooling取代Flatten等等"
   ]
  },
  {
   "cell_type": "code",
   "execution_count": 1,
   "metadata": {},
   "outputs": [],
   "source": [
    "from keras.models import Sequential\n",
    "from keras.layers import Convolution2D\n",
    "from keras.layers import MaxPooling2D\n",
    "from keras.layers import Flatten\n",
    "from keras.layers import Dense\n",
    "from keras.layers import Dropout\n",
    "from keras.layers import BatchNormalization\n",
    "from keras.datasets import cifar10\n",
    "import numpy as np\n",
    "import tensorflow as tf\n",
    "from sklearn.preprocessing import OneHotEncoder\n",
    "from keras.layers import GlobalAveragePooling2D"
   ]
  },
  {
   "cell_type": "code",
   "execution_count": 2,
   "metadata": {},
   "outputs": [
    {
     "name": "stdout",
     "output_type": "stream",
     "text": [
      "(50000, 32, 32, 3)\n"
     ]
    }
   ],
   "source": [
    "(x_train, y_train), (x_test, y_test) = cifar10.load_data()\n",
    "\n",
    "print(x_train.shape) #(50000, 32, 32, 3)\n",
    "\n",
    "## Normalize Data\n",
    "def normalize(X_train,X_test):\n",
    "        mean = np.mean(X_train,axis=(0,1,2,3))\n",
    "        std = np.std(X_train, axis=(0, 1, 2, 3))\n",
    "        X_train = (X_train-mean)/(std+1e-7)\n",
    "        X_test = (X_test-mean)/(std+1e-7) \n",
    "        return X_train, X_test,mean,std\n",
    "    \n",
    "    \n",
    "## Normalize Training and Testset    \n",
    "x_train, x_test,mean_train,std_train = normalize(x_train, x_test) "
   ]
  },
  {
   "cell_type": "code",
   "execution_count": 3,
   "metadata": {},
   "outputs": [],
   "source": [
    "## OneHot Label 由(None, 1)-(None, 10)\n",
    "## ex. label=2,變成[0,0,1,0,0,0,0,0,0,0]\n",
    "one_hot=OneHotEncoder()\n",
    "y_train=one_hot.fit_transform(y_train).toarray()\n",
    "y_test=one_hot.transform(y_test).toarray()"
   ]
  },
  {
   "cell_type": "code",
   "execution_count": 4,
   "metadata": {},
   "outputs": [
    {
     "name": "stdout",
     "output_type": "stream",
     "text": [
      "Epoch 1/100\n",
      "  1/500 [..............................] - ETA: 0s - loss: 2.6758 - accuracy: 0.0900WARNING:tensorflow:Callbacks method `on_train_batch_end` is slow compared to the batch time (batch time: 0.0020s vs `on_train_batch_end` time: 0.0271s). Check your callbacks.\n",
      "500/500 [==============================] - 15s 30ms/step - loss: 1.4736 - accuracy: 0.4632\n",
      "Epoch 2/100\n",
      "500/500 [==============================] - 15s 30ms/step - loss: 1.0784 - accuracy: 0.6146\n",
      "Epoch 3/100\n",
      "500/500 [==============================] - 15s 31ms/step - loss: 0.8940 - accuracy: 0.6841\n",
      "Epoch 4/100\n",
      "500/500 [==============================] - 15s 31ms/step - loss: 0.7651 - accuracy: 0.7334\n",
      "Epoch 5/100\n",
      "500/500 [==============================] - 15s 31ms/step - loss: 0.6722 - accuracy: 0.7655\n",
      "Epoch 6/100\n",
      "500/500 [==============================] - 16s 32ms/step - loss: 0.5894 - accuracy: 0.7946\n",
      "Epoch 7/100\n",
      "500/500 [==============================] - 16s 32ms/step - loss: 0.5185 - accuracy: 0.8193\n",
      "Epoch 8/100\n",
      "500/500 [==============================] - 16s 32ms/step - loss: 0.4544 - accuracy: 0.8446\n",
      "Epoch 9/100\n",
      "500/500 [==============================] - 16s 32ms/step - loss: 0.4029 - accuracy: 0.8607\n",
      "Epoch 10/100\n",
      "500/500 [==============================] - 16s 32ms/step - loss: 0.3487 - accuracy: 0.8809\n",
      "Epoch 11/100\n",
      "500/500 [==============================] - 16s 31ms/step - loss: 0.3098 - accuracy: 0.8924\n",
      "Epoch 12/100\n",
      "500/500 [==============================] - 15s 30ms/step - loss: 0.2671 - accuracy: 0.9067\n",
      "Epoch 13/100\n",
      "500/500 [==============================] - 15s 30ms/step - loss: 0.2347 - accuracy: 0.9191\n",
      "Epoch 14/100\n",
      "500/500 [==============================] - 15s 29ms/step - loss: 0.2033 - accuracy: 0.9302\n",
      "Epoch 15/100\n",
      "500/500 [==============================] - 15s 29ms/step - loss: 0.1756 - accuracy: 0.9391\n",
      "Epoch 16/100\n",
      "500/500 [==============================] - 15s 29ms/step - loss: 0.1579 - accuracy: 0.9447\n",
      "Epoch 17/100\n",
      "500/500 [==============================] - 14s 29ms/step - loss: 0.1412 - accuracy: 0.9504\n",
      "Epoch 18/100\n",
      "500/500 [==============================] - 14s 29ms/step - loss: 0.1246 - accuracy: 0.9568\n",
      "Epoch 19/100\n",
      "500/500 [==============================] - 14s 29ms/step - loss: 0.1138 - accuracy: 0.9604\n",
      "Epoch 20/100\n",
      "500/500 [==============================] - 14s 29ms/step - loss: 0.1082 - accuracy: 0.9617\n",
      "Epoch 21/100\n",
      "500/500 [==============================] - 14s 29ms/step - loss: 0.1035 - accuracy: 0.9633\n",
      "Epoch 22/100\n",
      "500/500 [==============================] - 14s 29ms/step - loss: 0.0908 - accuracy: 0.9688\n",
      "Epoch 23/100\n",
      "500/500 [==============================] - 15s 30ms/step - loss: 0.0902 - accuracy: 0.9683\n",
      "Epoch 24/100\n",
      "500/500 [==============================] - 15s 30ms/step - loss: 0.0856 - accuracy: 0.9702\n",
      "Epoch 25/100\n",
      "500/500 [==============================] - 15s 30ms/step - loss: 0.0785 - accuracy: 0.9733\n",
      "Epoch 26/100\n",
      "500/500 [==============================] - 15s 30ms/step - loss: 0.0776 - accuracy: 0.9734\n",
      "Epoch 27/100\n",
      "500/500 [==============================] - 15s 30ms/step - loss: 0.0724 - accuracy: 0.9753\n",
      "Epoch 28/100\n",
      "500/500 [==============================] - 15s 30ms/step - loss: 0.0613 - accuracy: 0.9792\n",
      "Epoch 29/100\n",
      "500/500 [==============================] - 16s 31ms/step - loss: 0.0713 - accuracy: 0.9750\n",
      "Epoch 30/100\n",
      "500/500 [==============================] - 16s 32ms/step - loss: 0.0701 - accuracy: 0.9758\n",
      "Epoch 31/100\n",
      "500/500 [==============================] - 16s 32ms/step - loss: 0.0637 - accuracy: 0.9774\n",
      "Epoch 32/100\n",
      "500/500 [==============================] - 16s 33ms/step - loss: 0.0567 - accuracy: 0.9803\n",
      "Epoch 33/100\n",
      "500/500 [==============================] - 16s 31ms/step - loss: 0.0625 - accuracy: 0.97790s - los\n",
      "Epoch 34/100\n",
      "500/500 [==============================] - 15s 30ms/step - loss: 0.0539 - accuracy: 0.9814\n",
      "Epoch 35/100\n",
      "500/500 [==============================] - 15s 30ms/step - loss: 0.0618 - accuracy: 0.9793\n",
      "Epoch 36/100\n",
      "500/500 [==============================] - 15s 30ms/step - loss: 0.0526 - accuracy: 0.9818\n",
      "Epoch 37/100\n",
      "500/500 [==============================] - 15s 29ms/step - loss: 0.0533 - accuracy: 0.9816\n",
      "Epoch 38/100\n",
      "500/500 [==============================] - 15s 30ms/step - loss: 0.0555 - accuracy: 0.9802\n",
      "Epoch 39/100\n",
      "500/500 [==============================] - 14s 29ms/step - loss: 0.0451 - accuracy: 0.9846\n",
      "Epoch 40/100\n",
      "500/500 [==============================] - 14s 29ms/step - loss: 0.0520 - accuracy: 0.9819\n",
      "Epoch 41/100\n",
      "500/500 [==============================] - 15s 29ms/step - loss: 0.0499 - accuracy: 0.9826\n",
      "Epoch 42/100\n",
      "500/500 [==============================] - 15s 30ms/step - loss: 0.0478 - accuracy: 0.9829\n",
      "Epoch 43/100\n",
      "500/500 [==============================] - 15s 29ms/step - loss: 0.0490 - accuracy: 0.9831\n",
      "Epoch 44/100\n",
      "500/500 [==============================] - 14s 29ms/step - loss: 0.0437 - accuracy: 0.9854\n",
      "Epoch 45/100\n",
      "500/500 [==============================] - 14s 28ms/step - loss: 0.0458 - accuracy: 0.9843\n",
      "Epoch 46/100\n",
      "500/500 [==============================] - 15s 29ms/step - loss: 0.0397 - accuracy: 0.9862\n",
      "Epoch 47/100\n",
      "500/500 [==============================] - 15s 30ms/step - loss: 0.0485 - accuracy: 0.9837\n",
      "Epoch 48/100\n",
      "500/500 [==============================] - 15s 31ms/step - loss: 0.0376 - accuracy: 0.9876\n",
      "Epoch 49/100\n",
      "500/500 [==============================] - 16s 31ms/step - loss: 0.0430 - accuracy: 0.9848\n",
      "Epoch 50/100\n",
      "500/500 [==============================] - 15s 31ms/step - loss: 0.0431 - accuracy: 0.9853\n",
      "Epoch 51/100\n",
      "500/500 [==============================] - 15s 30ms/step - loss: 0.0409 - accuracy: 0.9857\n",
      "Epoch 52/100\n",
      "500/500 [==============================] - 15s 31ms/step - loss: 0.0382 - accuracy: 0.9867\n",
      "Epoch 53/100\n",
      "500/500 [==============================] - 17s 34ms/step - loss: 0.0354 - accuracy: 0.9881\n",
      "Epoch 54/100\n",
      "500/500 [==============================] - 17s 34ms/step - loss: 0.0389 - accuracy: 0.9866\n",
      "Epoch 55/100\n",
      "500/500 [==============================] - 17s 34ms/step - loss: 0.0389 - accuracy: 0.9866\n",
      "Epoch 56/100\n",
      "500/500 [==============================] - 18s 35ms/step - loss: 0.0331 - accuracy: 0.9888\n",
      "Epoch 57/100\n",
      "500/500 [==============================] - 18s 36ms/step - loss: 0.0357 - accuracy: 0.9876\n",
      "Epoch 58/100\n",
      "500/500 [==============================] - 17s 33ms/step - loss: 0.0358 - accuracy: 0.9883\n",
      "Epoch 59/100\n",
      "500/500 [==============================] - 15s 31ms/step - loss: 0.0353 - accuracy: 0.9877\n",
      "Epoch 60/100\n",
      "500/500 [==============================] - 15s 30ms/step - loss: 0.0335 - accuracy: 0.9883\n",
      "Epoch 61/100\n",
      "500/500 [==============================] - 15s 30ms/step - loss: 0.0374 - accuracy: 0.9869\n",
      "Epoch 62/100\n",
      "500/500 [==============================] - 16s 32ms/step - loss: 0.0322 - accuracy: 0.9886\n",
      "Epoch 63/100\n",
      "500/500 [==============================] - 16s 32ms/step - loss: 0.0307 - accuracy: 0.9896\n",
      "Epoch 64/100\n",
      "500/500 [==============================] - 16s 32ms/step - loss: 0.0331 - accuracy: 0.9883\n",
      "Epoch 65/100\n",
      "500/500 [==============================] - 16s 32ms/step - loss: 0.0319 - accuracy: 0.9892\n",
      "Epoch 66/100\n",
      "500/500 [==============================] - 16s 32ms/step - loss: 0.0308 - accuracy: 0.9889\n",
      "Epoch 67/100\n",
      "500/500 [==============================] - 16s 32ms/step - loss: 0.0296 - accuracy: 0.9902\n",
      "Epoch 68/100\n",
      "500/500 [==============================] - 16s 32ms/step - loss: 0.0269 - accuracy: 0.9906\n",
      "Epoch 69/100\n",
      "500/500 [==============================] - 16s 32ms/step - loss: 0.0369 - accuracy: 0.9874\n",
      "Epoch 70/100\n",
      "500/500 [==============================] - 16s 32ms/step - loss: 0.0265 - accuracy: 0.9914\n",
      "Epoch 71/100\n",
      "500/500 [==============================] - 16s 32ms/step - loss: 0.0300 - accuracy: 0.9898\n",
      "Epoch 72/100\n",
      "500/500 [==============================] - 16s 31ms/step - loss: 0.0282 - accuracy: 0.9908\n",
      "Epoch 73/100\n",
      "500/500 [==============================] - 16s 32ms/step - loss: 0.0336 - accuracy: 0.9880\n",
      "Epoch 74/100\n",
      "500/500 [==============================] - 16s 32ms/step - loss: 0.0264 - accuracy: 0.9908\n",
      "Epoch 75/100\n",
      "500/500 [==============================] - 16s 32ms/step - loss: 0.0286 - accuracy: 0.9901\n",
      "Epoch 76/100\n",
      "500/500 [==============================] - 16s 32ms/step - loss: 0.0288 - accuracy: 0.9896\n",
      "Epoch 77/100\n"
     ]
    },
    {
     "name": "stdout",
     "output_type": "stream",
     "text": [
      "500/500 [==============================] - 16s 32ms/step - loss: 0.0240 - accuracy: 0.9916\n",
      "Epoch 78/100\n",
      "500/500 [==============================] - 16s 32ms/step - loss: 0.0268 - accuracy: 0.9907\n",
      "Epoch 79/100\n",
      "500/500 [==============================] - 16s 31ms/step - loss: 0.0330 - accuracy: 0.9886\n",
      "Epoch 80/100\n",
      "500/500 [==============================] - 16s 31ms/step - loss: 0.0220 - accuracy: 0.9926\n",
      "Epoch 81/100\n",
      "500/500 [==============================] - 16s 31ms/step - loss: 0.0234 - accuracy: 0.9920\n",
      "Epoch 82/100\n",
      "500/500 [==============================] - 16s 31ms/step - loss: 0.0263 - accuracy: 0.9914\n",
      "Epoch 83/100\n",
      "500/500 [==============================] - 16s 31ms/step - loss: 0.0301 - accuracy: 0.9902\n",
      "Epoch 84/100\n",
      "500/500 [==============================] - 16s 31ms/step - loss: 0.0262 - accuracy: 0.9914\n",
      "Epoch 85/100\n",
      "500/500 [==============================] - 16s 31ms/step - loss: 0.0249 - accuracy: 0.9920\n",
      "Epoch 86/100\n",
      "500/500 [==============================] - 16s 31ms/step - loss: 0.0228 - accuracy: 0.9918\n",
      "Epoch 87/100\n",
      "500/500 [==============================] - 16s 31ms/step - loss: 0.0306 - accuracy: 0.9898\n",
      "Epoch 88/100\n",
      "500/500 [==============================] - 16s 32ms/step - loss: 0.0201 - accuracy: 0.9933\n",
      "Epoch 89/100\n",
      "500/500 [==============================] - 16s 31ms/step - loss: 0.0210 - accuracy: 0.9929\n",
      "Epoch 90/100\n",
      "500/500 [==============================] - 16s 31ms/step - loss: 0.0240 - accuracy: 0.9920\n",
      "Epoch 91/100\n",
      "500/500 [==============================] - 16s 32ms/step - loss: 0.0246 - accuracy: 0.9920\n",
      "Epoch 92/100\n",
      "500/500 [==============================] - 16s 31ms/step - loss: 0.0216 - accuracy: 0.9927\n",
      "Epoch 93/100\n",
      "500/500 [==============================] - 16s 31ms/step - loss: 0.0232 - accuracy: 0.9921\n",
      "Epoch 94/100\n",
      "500/500 [==============================] - 16s 32ms/step - loss: 0.0247 - accuracy: 0.9914\n",
      "Epoch 95/100\n",
      "500/500 [==============================] - 16s 31ms/step - loss: 0.0242 - accuracy: 0.9920\n",
      "Epoch 96/100\n",
      "500/500 [==============================] - 16s 31ms/step - loss: 0.0213 - accuracy: 0.9927\n",
      "Epoch 97/100\n",
      "500/500 [==============================] - 16s 31ms/step - loss: 0.0193 - accuracy: 0.9933\n",
      "Epoch 98/100\n",
      "500/500 [==============================] - 16s 31ms/step - loss: 0.0239 - accuracy: 0.9923\n",
      "Epoch 99/100\n",
      "500/500 [==============================] - 16s 31ms/step - loss: 0.0233 - accuracy: 0.9924\n",
      "Epoch 100/100\n",
      "500/500 [==============================] - 16s 31ms/step - loss: 0.0228 - accuracy: 0.9923\n"
     ]
    },
    {
     "data": {
      "text/plain": [
       "<tensorflow.python.keras.callbacks.History at 0x7f475c873950>"
      ]
     },
     "execution_count": 4,
     "metadata": {},
     "output_type": "execute_result"
    }
   ],
   "source": [
    "\n",
    "classifier=Sequential()\n",
    "\n",
    "#卷積組合\n",
    "#32,3,3,input_shape=(32,32,3),activation='relu''\n",
    "classifier.add(Convolution2D(32, (3,3), activation='relu', padding='same', input_shape=(32,32,3)))\n",
    "classifier.add(BatchNormalization())\n",
    "\n",
    "\n",
    "#卷積組合\n",
    "classifier.add(Convolution2D(64, (3,3), padding='same', activation='relu'))\n",
    "classifier.add(BatchNormalization())\n",
    "\n",
    "#卷積組合\n",
    "classifier.add(Convolution2D(128, (3,3), padding='same', activation='relu'))\n",
    "classifier.add(BatchNormalization())\n",
    "\n",
    "#卷積組合\n",
    "classifier.add(Convolution2D(128, (3,3), padding='same', activation='relu'))\n",
    "classifier.add(BatchNormalization())\n",
    "\n",
    "#卷積組合\n",
    "classifier.add(Convolution2D(128, (3,3), padding='same', activation='relu'))\n",
    "classifier.add(BatchNormalization())\n",
    "\n",
    "classifier.add(MaxPooling2D(pool_size=(2,2), padding='same'))\n",
    "\n",
    "#flatten\n",
    "# classifier.add(Flatten())\n",
    "classifier.add(GlobalAveragePooling2D())\n",
    "\n",
    "#FC\n",
    "classifier.add(Dense(100, activation='relu')) #output_dim=100,activation=relu\n",
    "classifier.add(Dropout(0.25))\n",
    "#輸出\n",
    "classifier.add(Dense(10,activation='softmax'))\n",
    "\n",
    "#超過兩個就要選categorical_crossentrophy\n",
    "classifier.compile(optimizer = 'adam', loss = 'categorical_crossentropy', metrics = ['accuracy'])\n",
    "classifier.fit(x_train,y_train,batch_size=100,epochs=100)\n",
    "\n"
   ]
  },
  {
   "cell_type": "code",
   "execution_count": 5,
   "metadata": {},
   "outputs": [
    {
     "name": "stdout",
     "output_type": "stream",
     "text": [
      "Test loss: 1.336971402168274\n",
      "Test accuracy: 0.8044000267982483\n"
     ]
    }
   ],
   "source": [
    "# 取得test set score\n",
    "score = classifier.evaluate(x_test, y_test, verbose=0)\n",
    "print('Test loss:', score[0])\n",
    "print('Test accuracy:', score[1])"
   ]
  },
  {
   "cell_type": "markdown",
   "metadata": {},
   "source": [
    "## 預測新圖片，輸入影像前處理要與訓練時相同\n",
    "#### ((X-mean)/(std+1e-7) ):這裡的mean跟std是訓練集的\n",
    "## 維度如下方示範"
   ]
  },
  {
   "cell_type": "code",
   "execution_count": 6,
   "metadata": {},
   "outputs": [
    {
     "data": {
      "text/plain": [
       "array([[2.2918046e-03, 7.9584929e-08, 1.0067928e-01, 8.6512440e-01,\n",
       "        2.6429692e-02, 1.9606675e-07, 2.5599305e-05, 2.4247768e-03,\n",
       "        3.0239278e-03, 2.6867065e-07]], dtype=float32)"
      ]
     },
     "execution_count": 6,
     "metadata": {},
     "output_type": "execute_result"
    }
   ],
   "source": [
    "input_example=(np.zeros(shape=(1,32,32,3))-mean_train)/(std_train+1e-7) \n",
    "classifier.predict(input_example)"
   ]
  },
  {
   "cell_type": "code",
   "execution_count": null,
   "metadata": {},
   "outputs": [],
   "source": []
  },
  {
   "cell_type": "code",
   "execution_count": null,
   "metadata": {},
   "outputs": [],
   "source": []
  }
 ],
 "metadata": {
  "kernelspec": {
   "display_name": "Python 3",
   "language": "python",
   "name": "python3"
  },
  "language_info": {
   "codemirror_mode": {
    "name": "ipython",
    "version": 3
   },
   "file_extension": ".py",
   "mimetype": "text/x-python",
   "name": "python",
   "nbconvert_exporter": "python",
   "pygments_lexer": "ipython3",
   "version": "3.7.6"
  }
 },
 "nbformat": 4,
 "nbformat_minor": 2
}
